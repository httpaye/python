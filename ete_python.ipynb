{
  "nbformat": 4,
  "nbformat_minor": 0,
  "metadata": {
    "colab": {
      "provenance": []
    },
    "kernelspec": {
      "name": "python3",
      "display_name": "Python 3"
    },
    "language_info": {
      "name": "python"
    }
  },
  "cells": [
    {
      "cell_type": "code",
      "execution_count": null,
      "metadata": {
        "colab": {
          "base_uri": "https://localhost:8080/"
        },
        "id": "qrxbHb9OgcCJ",
        "outputId": "5c9d4e76-3af6-417c-8c8c-375f68f6e787"
      },
      "outputs": [
        {
          "output_type": "stream",
          "name": "stdout",
          "text": [
            "Olá mundo!\n",
            "<class 'str'>\n"
          ]
        }
      ],
      "source": [
        "# ETE CÍCERO DIAS\n",
        "# DOCENTE: CLOVES ROCHA\n",
        "# ESTUDANTE:THAYNARA MENDES MARIA CAROLINA\n",
        "# Tipos primitivos de dados em Python\n",
        "\n",
        "print('Olá mundo!')\n",
        "c = 'Cloves'\n",
        "print (type(c))"
      ]
    }
  ]
}