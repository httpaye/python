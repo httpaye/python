{
  "nbformat": 4,
  "nbformat_minor": 0,
  "metadata": {
    "colab": {
      "provenance": [],
      "authorship_tag": "ABX9TyMsoWrjJ7+MIvA7lat3uyfD",
      "include_colab_link": true
    },
    "kernelspec": {
      "name": "python3",
      "display_name": "Python 3"
    },
    "language_info": {
      "name": "python"
    }
  },
  "cells": [
    {
      "cell_type": "markdown",
      "metadata": {
        "id": "view-in-github",
        "colab_type": "text"
      },
      "source": [
        "<a href=\"https://colab.research.google.com/github/httpaye/python/blob/main/ete_python%202.ipynb\" target=\"_parent\"><img src=\"https://colab.research.google.com/assets/colab-badge.svg\" alt=\"Open In Colab\"/></a>"
      ]
    },
    {
      "cell_type": "code",
      "execution_count": 1,
      "metadata": {
        "colab": {
          "base_uri": "https://localhost:8080/"
        },
        "id": "qrxbHb9OgcCJ",
        "outputId": "3b0c5b58-b892-4a3b-a88c-bc93c73bf005"
      },
      "outputs": [
        {
          "output_type": "stream",
          "name": "stdout",
          "text": [
            "Olá mundo!\n",
            "<class 'int'>\n"
          ]
        }
      ],
      "source": [
        "# ETE CÍCERO DIAS\n",
        "# DOCENTE: CLOVES ROCHA\n",
        "# ESTUDANTE:THAYNARA MENDES MARIA CAROLINA\n",
        "# Tipos primitivos de dados em Python\n",
        "\n",
        "print('Olá mundo!')\n",
        "c = 10\n",
        "print (type(c))"
      ]
    }
  ]
}